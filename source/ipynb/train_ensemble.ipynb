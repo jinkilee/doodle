{
 "cells": [
  {
   "cell_type": "code",
   "execution_count": 4,
   "metadata": {},
   "outputs": [
    {
     "name": "stderr",
     "output_type": "stream",
     "text": [
      "Using TensorFlow backend.\n"
     ]
    }
   ],
   "source": [
    "import sys\n",
    "import numpy as np\n",
    "import os\n",
    "\n",
    "sys.path.insert(0, '../')\n",
    "import sys; sys.argv=['']; del sys\n",
    "import matplotlib.pyplot as plt\n",
    "\n",
    "from models import FullModel\n",
    "from models import AutoEncoder\n",
    "from models import train_full_model\n",
    "from models import check_loaded_weight\n",
    "from models import CallbackParams\n",
    "from models import encoder, decoder\n",
    "import lightgbm as lgb"
   ]
  },
  {
   "cell_type": "code",
   "execution_count": 5,
   "metadata": {},
   "outputs": [],
   "source": [
    "RAW = True\n",
    "if RAW:\n",
    "    test_filename = 'test_raw.csv'\n",
    "    data_dir = 'train_sampled_raw'\n",
    "    from input_data import image_generator_xd_raw as image_generator_xd\n",
    "    from input_data import df_to_image_array_xd_raw as df_to_image_array_xd\n",
    "else:\n",
    "    test_filename = 'test_simplified.csv'\n",
    "    data_dir = 'train_sampled'\n",
    "    from input_data import image_generator_xd\n",
    "    from input_data import df_to_image_array_xd"
   ]
  },
  {
   "cell_type": "markdown",
   "metadata": {},
   "source": [
    "# Setup"
   ]
  },
  {
   "cell_type": "code",
   "execution_count": 6,
   "metadata": {},
   "outputs": [],
   "source": [
    "NCSVS = 100\n",
    "SIZE = 128\n",
    "BATCHSIZE = 400\n",
    "BASESIZE = 256\n",
    "NCATS = 340\n",
    "IN_CHANNEL = 3\n",
    "NUM_TOTAL_DATA = int(1020000*0.99)\n",
    "STEPS = int(NUM_TOTAL_DATA/BATCHSIZE)\n",
    "EPOCHS = 16\n",
    "VERBOSE = 1\n",
    "MODEL_PATH = '/data/doodle/h5'\n",
    "INPUT_DIR = '/data/doodle/'\n",
    "\n",
    "def f2cat(filename: str) -> str:\n",
    "    return filename.split('.')[0]\n",
    "\n",
    "def list_all_categories():\n",
    "    files = os.listdir(os.path.join(INPUT_DIR, 'train'))\n",
    "    return sorted([f2cat(f) for f in files], key=str.lower)"
   ]
  },
  {
   "cell_type": "code",
   "execution_count": 7,
   "metadata": {},
   "outputs": [],
   "source": [
    "def apk(actual, predicted, k=3):\n",
    "    \"\"\"\n",
    "    Source: https://github.com/benhamner/Metrics/blob/master/Python/ml_metrics/average_precision.py\n",
    "    \"\"\"\n",
    "    if len(predicted) > k:\n",
    "        predicted = predicted[:k]\n",
    "    score = 0.0\n",
    "    num_hits = 0.0\n",
    "    for i, p in enumerate(predicted):\n",
    "        if p in actual and p not in predicted[:i]:\n",
    "            num_hits += 1.0\n",
    "            score += num_hits / (i + 1.0)\n",
    "    if not actual:\n",
    "        return 0.0\n",
    "    return score / min(len(actual), k)\n",
    "\n",
    "def mapk(actual, predicted, k=3):\n",
    "    \"\"\"\n",
    "    Source: https://github.com/benhamner/Metrics/blob/master/Python/ml_metrics/average_precision.py\n",
    "    \"\"\"\n",
    "    return np.mean([apk(a, p, k) for a, p in zip(actual, predicted)])\n",
    "\n",
    "def preds2catids(predictions):\n",
    "    return pd.DataFrame(np.argsort(-predictions, axis=1)[:, :3], columns=['a', 'b', 'c'])\n",
    "\n",
    "def top_3_accuracy(y_true, y_pred):\n",
    "    return top_k_categorical_accuracy(y_true, y_pred, k=3)"
   ]
  },
  {
   "cell_type": "markdown",
   "metadata": {},
   "source": [
    "# Ensemble"
   ]
  },
  {
   "cell_type": "code",
   "execution_count": 8,
   "metadata": {},
   "outputs": [
    {
     "data": {
      "text/plain": [
       "['/data/doodle/prob/prob_xception-115_3_400_0774.csv',\n",
       " '/data/doodle/prob/prob_inception_restnet_v2-128_3_500_0803.csv',\n",
       " '/data/doodle/prob/prob_inception_resnet_v2-128_3_500_0029.csv']"
      ]
     },
     "execution_count": 8,
     "metadata": {},
     "output_type": "execute_result"
    }
   ],
   "source": [
    "import os\n",
    "import pandas as pd\n",
    "prob_files = os.listdir('/data/doodle/prob/')\n",
    "prob_files = list(map(lambda x: '/data/doodle/prob/'+x, prob_files))\n",
    "prob = np.zeros((112199, 340))\n",
    "features = ['prob_%d'%i for i in range(NCATS)]\n",
    "prob_files"
   ]
  },
  {
   "cell_type": "code",
   "execution_count": 9,
   "metadata": {},
   "outputs": [
    {
     "name": "stdout",
     "output_type": "stream",
     "text": [
      "/data/doodle/prob/prob_xception-115_3_400_0774.csv were processed\n",
      "/data/doodle/prob/prob_inception_restnet_v2-128_3_500_0803.csv were processed\n",
      "/data/doodle/prob/prob_inception_resnet_v2-128_3_500_0029.csv were processed\n"
     ]
    }
   ],
   "source": [
    "for f in prob_files:\n",
    "    prob_df = pd.read_csv(f)\n",
    "    prob += prob_df[features].values\n",
    "    print('%s were processed' % f)\n",
    "    key_id = prob_df.key_id\n",
    "    del prob_df"
   ]
  },
  {
   "cell_type": "code",
   "execution_count": 10,
   "metadata": {},
   "outputs": [
    {
     "data": {
      "text/html": [
       "<div>\n",
       "<style scoped>\n",
       "    .dataframe tbody tr th:only-of-type {\n",
       "        vertical-align: middle;\n",
       "    }\n",
       "\n",
       "    .dataframe tbody tr th {\n",
       "        vertical-align: top;\n",
       "    }\n",
       "\n",
       "    .dataframe thead th {\n",
       "        text-align: right;\n",
       "    }\n",
       "</style>\n",
       "<table border=\"1\" class=\"dataframe\">\n",
       "  <thead>\n",
       "    <tr style=\"text-align: right;\">\n",
       "      <th></th>\n",
       "      <th>a</th>\n",
       "      <th>b</th>\n",
       "      <th>c</th>\n",
       "    </tr>\n",
       "  </thead>\n",
       "  <tbody>\n",
       "    <tr>\n",
       "      <th>0</th>\n",
       "      <td>234</td>\n",
       "      <td>281</td>\n",
       "      <td>266</td>\n",
       "    </tr>\n",
       "    <tr>\n",
       "      <th>1</th>\n",
       "      <td>144</td>\n",
       "      <td>36</td>\n",
       "      <td>125</td>\n",
       "    </tr>\n",
       "    <tr>\n",
       "      <th>2</th>\n",
       "      <td>305</td>\n",
       "      <td>62</td>\n",
       "      <td>309</td>\n",
       "    </tr>\n",
       "    <tr>\n",
       "      <th>3</th>\n",
       "      <td>187</td>\n",
       "      <td>111</td>\n",
       "      <td>303</td>\n",
       "    </tr>\n",
       "    <tr>\n",
       "      <th>4</th>\n",
       "      <td>56</td>\n",
       "      <td>113</td>\n",
       "      <td>112</td>\n",
       "    </tr>\n",
       "  </tbody>\n",
       "</table>\n",
       "</div>"
      ],
      "text/plain": [
       "     a    b    c\n",
       "0  234  281  266\n",
       "1  144   36  125\n",
       "2  305   62  309\n",
       "3  187  111  303\n",
       "4   56  113  112"
      ]
     },
     "execution_count": 10,
     "metadata": {},
     "output_type": "execute_result"
    }
   ],
   "source": [
    "top3 = preds2catids(prob/len(prob_files))\n",
    "top3.head()"
   ]
  },
  {
   "cell_type": "code",
   "execution_count": 11,
   "metadata": {},
   "outputs": [],
   "source": [
    "cat_dict = list_all_categories()\n",
    "cat_dict = [cat.replace(' ', '_') for cat in cat_dict]"
   ]
  },
  {
   "cell_type": "code",
   "execution_count": 12,
   "metadata": {},
   "outputs": [],
   "source": [
    "top3.loc[:,'a'] = list(map(lambda x: cat_dict[x], top3.a))\n",
    "top3.loc[:,'b'] = list(map(lambda x: cat_dict[x], top3.b))\n",
    "top3.loc[:,'c'] = list(map(lambda x: cat_dict[x], top3.c))"
   ]
  },
  {
   "cell_type": "code",
   "execution_count": 13,
   "metadata": {},
   "outputs": [
    {
     "data": {
      "text/html": [
       "<div>\n",
       "<style scoped>\n",
       "    .dataframe tbody tr th:only-of-type {\n",
       "        vertical-align: middle;\n",
       "    }\n",
       "\n",
       "    .dataframe tbody tr th {\n",
       "        vertical-align: top;\n",
       "    }\n",
       "\n",
       "    .dataframe thead th {\n",
       "        text-align: right;\n",
       "    }\n",
       "</style>\n",
       "<table border=\"1\" class=\"dataframe\">\n",
       "  <thead>\n",
       "    <tr style=\"text-align: right;\">\n",
       "      <th></th>\n",
       "      <th>a</th>\n",
       "      <th>b</th>\n",
       "      <th>c</th>\n",
       "      <th>word</th>\n",
       "    </tr>\n",
       "  </thead>\n",
       "  <tbody>\n",
       "    <tr>\n",
       "      <th>0</th>\n",
       "      <td>radio</td>\n",
       "      <td>stereo</td>\n",
       "      <td>snorkel</td>\n",
       "      <td>radio stereo snorkel</td>\n",
       "    </tr>\n",
       "    <tr>\n",
       "      <th>1</th>\n",
       "      <td>hockey_puck</td>\n",
       "      <td>bottlecap</td>\n",
       "      <td>frying_pan</td>\n",
       "      <td>hockey_puck bottlecap frying_pan</td>\n",
       "    </tr>\n",
       "    <tr>\n",
       "      <th>2</th>\n",
       "      <td>The_Great_Wall_of_China</td>\n",
       "      <td>castle</td>\n",
       "      <td>toe</td>\n",
       "      <td>The_Great_Wall_of_China castle toe</td>\n",
       "    </tr>\n",
       "    <tr>\n",
       "      <th>3</th>\n",
       "      <td>mountain</td>\n",
       "      <td>finger</td>\n",
       "      <td>tent</td>\n",
       "      <td>mountain finger tent</td>\n",
       "    </tr>\n",
       "    <tr>\n",
       "      <th>4</th>\n",
       "      <td>campfire</td>\n",
       "      <td>fireplace</td>\n",
       "      <td>fire_hydrant</td>\n",
       "      <td>campfire fireplace fire_hydrant</td>\n",
       "    </tr>\n",
       "  </tbody>\n",
       "</table>\n",
       "</div>"
      ],
      "text/plain": [
       "                         a          b             c  \\\n",
       "0                    radio     stereo       snorkel   \n",
       "1              hockey_puck  bottlecap    frying_pan   \n",
       "2  The_Great_Wall_of_China     castle           toe   \n",
       "3                 mountain     finger          tent   \n",
       "4                 campfire  fireplace  fire_hydrant   \n",
       "\n",
       "                                 word  \n",
       "0                radio stereo snorkel  \n",
       "1    hockey_puck bottlecap frying_pan  \n",
       "2  The_Great_Wall_of_China castle toe  \n",
       "3                mountain finger tent  \n",
       "4     campfire fireplace fire_hydrant  "
      ]
     },
     "execution_count": 13,
     "metadata": {},
     "output_type": "execute_result"
    }
   ],
   "source": [
    "top3.loc[:, 'word'] = [' '.join((a, b, c)) for a, b, c in zip(top3.a, top3.b, top3.c)]\n",
    "top3.head()"
   ]
  },
  {
   "cell_type": "code",
   "execution_count": 14,
   "metadata": {},
   "outputs": [],
   "source": [
    "submission_df = pd.concat([key_id, top3.word], axis=1)\n",
    "submission_df.to_csv('/data/doodle/submission/ensembled_tmp.csv', index=False)"
   ]
  },
  {
   "cell_type": "code",
   "execution_count": 15,
   "metadata": {},
   "outputs": [
    {
     "data": {
      "text/html": [
       "<div>\n",
       "<style scoped>\n",
       "    .dataframe tbody tr th:only-of-type {\n",
       "        vertical-align: middle;\n",
       "    }\n",
       "\n",
       "    .dataframe tbody tr th {\n",
       "        vertical-align: top;\n",
       "    }\n",
       "\n",
       "    .dataframe thead th {\n",
       "        text-align: right;\n",
       "    }\n",
       "</style>\n",
       "<table border=\"1\" class=\"dataframe\">\n",
       "  <thead>\n",
       "    <tr style=\"text-align: right;\">\n",
       "      <th></th>\n",
       "      <th>key_id</th>\n",
       "      <th>word</th>\n",
       "    </tr>\n",
       "  </thead>\n",
       "  <tbody>\n",
       "    <tr>\n",
       "      <th>0</th>\n",
       "      <td>9000003627287624</td>\n",
       "      <td>radio stereo snorkel</td>\n",
       "    </tr>\n",
       "    <tr>\n",
       "      <th>1</th>\n",
       "      <td>9000010688666847</td>\n",
       "      <td>hockey_puck bottlecap frying_pan</td>\n",
       "    </tr>\n",
       "    <tr>\n",
       "      <th>2</th>\n",
       "      <td>9000023642890129</td>\n",
       "      <td>The_Great_Wall_of_China castle toe</td>\n",
       "    </tr>\n",
       "  </tbody>\n",
       "</table>\n",
       "</div>"
      ],
      "text/plain": [
       "             key_id                                word\n",
       "0  9000003627287624                radio stereo snorkel\n",
       "1  9000010688666847    hockey_puck bottlecap frying_pan\n",
       "2  9000023642890129  The_Great_Wall_of_China castle toe"
      ]
     },
     "execution_count": 15,
     "metadata": {},
     "output_type": "execute_result"
    }
   ],
   "source": [
    "submission_df.head(3)"
   ]
  },
  {
   "cell_type": "code",
   "execution_count": null,
   "metadata": {},
   "outputs": [],
   "source": []
  }
 ],
 "metadata": {
  "kernelspec": {
   "display_name": "Python 3",
   "language": "python",
   "name": "python3"
  },
  "language_info": {
   "codemirror_mode": {
    "name": "ipython",
    "version": 3
   },
   "file_extension": ".py",
   "mimetype": "text/x-python",
   "name": "python",
   "nbconvert_exporter": "python",
   "pygments_lexer": "ipython3",
   "version": "3.5.4"
  }
 },
 "nbformat": 4,
 "nbformat_minor": 2
}
